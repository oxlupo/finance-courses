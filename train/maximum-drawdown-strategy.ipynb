{
 "cells": [
  {
   "cell_type": "markdown",
   "metadata": {},
   "source": [
    "# Maximum Drawdown Volatility Measure\n",
    "\n",
    "A notebook dedicated to understanding volatility measures on real-world data. \n",
    "\n",
    "**Maximum Drawdown:** A maximum drawdown (MDD) is the maximum observed loss from a peak to a trough of a portfolio, before a new peak is attained. Maximum drawdown is an indicator of downside risk over a specified time period. It can be used both as a stand-alone measure or as an input into other metrics such as \"Return over Maximum Drawdown\" and the Calmar Ratio. Maximum Drawdown is expressed in percentage terms.\n",
    "\n",
    "**Formula**\n",
    "\n",
    "$MDD = \\frac{Trough Value - Peak Value}{Peak Value}$\n"
   ]
  },
  {
   "cell_type": "markdown",
   "metadata": {},
   "source": [
    "## Import Necessary libraries"
   ]
  },
  {
   "cell_type": "code",
   "execution_count": 1,
   "metadata": {
    "_cell_guid": "79c7e3d0-c299-4dcb-8224-4455121ee9b0",
    "_uuid": "d629ff2d2480ee46fbb7e2d37f6b5fab8052498a"
   },
   "outputs": [],
   "source": [
    "# Data Analysis\n",
    "import numpy as np \n",
    "import pandas as pd \n",
    "\n",
    "# Data Visualisation \n",
    "import matplotlib.pyplot as plt \n",
    "import seaborn as sns"
   ]
  },
  {
   "cell_type": "markdown",
   "metadata": {},
   "source": [
    "## Read in the data "
   ]
  },
  {
   "cell_type": "code",
   "execution_count": 2,
   "metadata": {},
   "outputs": [
    {
     "data": {
      "text/plain": [
       "(1110, 19)"
      ]
     },
     "execution_count": 2,
     "metadata": {},
     "output_type": "execute_result"
    }
   ],
   "source": [
    "monthly_data = pd.read_csv('C:/Users/Younes/PycharmProjects/finance-courses/data/Portfolios_Formed_on_ME_monthly_EW.csv',\n",
    "                           header=0, index_col=0, parse_dates=True, na_values=-99.99)\n",
    "monthly_data.shape"
   ]
  },
  {
   "cell_type": "code",
   "execution_count": 3,
   "metadata": {},
   "outputs": [
    {
     "data": {
      "text/html": [
       "<div>\n",
       "<style scoped>\n",
       "    .dataframe tbody tr th:only-of-type {\n",
       "        vertical-align: middle;\n",
       "    }\n",
       "\n",
       "    .dataframe tbody tr th {\n",
       "        vertical-align: top;\n",
       "    }\n",
       "\n",
       "    .dataframe thead th {\n",
       "        text-align: right;\n",
       "    }\n",
       "</style>\n",
       "<table border=\"1\" class=\"dataframe\">\n",
       "  <thead>\n",
       "    <tr style=\"text-align: right;\">\n",
       "      <th></th>\n",
       "      <th>&lt;= 0</th>\n",
       "      <th>Lo 30</th>\n",
       "      <th>Med 40</th>\n",
       "      <th>Hi 30</th>\n",
       "      <th>Lo 20</th>\n",
       "      <th>Qnt 2</th>\n",
       "      <th>Qnt 3</th>\n",
       "      <th>Qnt 4</th>\n",
       "      <th>Hi 20</th>\n",
       "      <th>Lo 10</th>\n",
       "      <th>Dec 2</th>\n",
       "      <th>Dec 3</th>\n",
       "      <th>Dec 4</th>\n",
       "      <th>Dec 5</th>\n",
       "      <th>Dec 6</th>\n",
       "      <th>Dec 7</th>\n",
       "      <th>Dec 8</th>\n",
       "      <th>Dec 9</th>\n",
       "      <th>Hi 10</th>\n",
       "    </tr>\n",
       "  </thead>\n",
       "  <tbody>\n",
       "    <tr>\n",
       "      <th>192607</th>\n",
       "      <td>NaN</td>\n",
       "      <td>-0.43</td>\n",
       "      <td>1.52</td>\n",
       "      <td>2.68</td>\n",
       "      <td>-0.57</td>\n",
       "      <td>0.59</td>\n",
       "      <td>1.60</td>\n",
       "      <td>1.47</td>\n",
       "      <td>3.33</td>\n",
       "      <td>-1.45</td>\n",
       "      <td>0.29</td>\n",
       "      <td>-0.15</td>\n",
       "      <td>1.33</td>\n",
       "      <td>1.24</td>\n",
       "      <td>1.98</td>\n",
       "      <td>1.55</td>\n",
       "      <td>1.38</td>\n",
       "      <td>3.38</td>\n",
       "      <td>3.29</td>\n",
       "    </tr>\n",
       "    <tr>\n",
       "      <th>192608</th>\n",
       "      <td>NaN</td>\n",
       "      <td>3.90</td>\n",
       "      <td>3.04</td>\n",
       "      <td>2.09</td>\n",
       "      <td>3.84</td>\n",
       "      <td>3.59</td>\n",
       "      <td>3.71</td>\n",
       "      <td>1.61</td>\n",
       "      <td>2.33</td>\n",
       "      <td>5.12</td>\n",
       "      <td>2.59</td>\n",
       "      <td>4.03</td>\n",
       "      <td>3.15</td>\n",
       "      <td>2.72</td>\n",
       "      <td>4.72</td>\n",
       "      <td>1.60</td>\n",
       "      <td>1.63</td>\n",
       "      <td>0.98</td>\n",
       "      <td>3.70</td>\n",
       "    </tr>\n",
       "    <tr>\n",
       "      <th>192609</th>\n",
       "      <td>NaN</td>\n",
       "      <td>-1.08</td>\n",
       "      <td>-0.54</td>\n",
       "      <td>0.16</td>\n",
       "      <td>-0.48</td>\n",
       "      <td>-1.40</td>\n",
       "      <td>0.00</td>\n",
       "      <td>-0.50</td>\n",
       "      <td>-0.09</td>\n",
       "      <td>0.93</td>\n",
       "      <td>-1.87</td>\n",
       "      <td>-2.27</td>\n",
       "      <td>-0.53</td>\n",
       "      <td>0.07</td>\n",
       "      <td>-0.07</td>\n",
       "      <td>-1.64</td>\n",
       "      <td>0.64</td>\n",
       "      <td>-0.86</td>\n",
       "      <td>0.67</td>\n",
       "    </tr>\n",
       "    <tr>\n",
       "      <th>192610</th>\n",
       "      <td>NaN</td>\n",
       "      <td>-3.32</td>\n",
       "      <td>-3.52</td>\n",
       "      <td>-3.06</td>\n",
       "      <td>-3.29</td>\n",
       "      <td>-4.10</td>\n",
       "      <td>-2.89</td>\n",
       "      <td>-3.36</td>\n",
       "      <td>-2.95</td>\n",
       "      <td>-4.84</td>\n",
       "      <td>-1.77</td>\n",
       "      <td>-3.36</td>\n",
       "      <td>-4.83</td>\n",
       "      <td>-2.98</td>\n",
       "      <td>-2.80</td>\n",
       "      <td>-3.45</td>\n",
       "      <td>-3.27</td>\n",
       "      <td>-3.47</td>\n",
       "      <td>-2.43</td>\n",
       "    </tr>\n",
       "    <tr>\n",
       "      <th>192611</th>\n",
       "      <td>NaN</td>\n",
       "      <td>-0.46</td>\n",
       "      <td>3.82</td>\n",
       "      <td>3.09</td>\n",
       "      <td>-0.55</td>\n",
       "      <td>2.18</td>\n",
       "      <td>3.41</td>\n",
       "      <td>3.39</td>\n",
       "      <td>3.16</td>\n",
       "      <td>-0.78</td>\n",
       "      <td>-0.32</td>\n",
       "      <td>-0.29</td>\n",
       "      <td>4.65</td>\n",
       "      <td>3.24</td>\n",
       "      <td>3.57</td>\n",
       "      <td>3.82</td>\n",
       "      <td>2.95</td>\n",
       "      <td>3.61</td>\n",
       "      <td>2.70</td>\n",
       "    </tr>\n",
       "  </tbody>\n",
       "</table>\n",
       "</div>"
      ],
      "text/plain": [
       "        <= 0  Lo 30  Med 40  Hi 30  Lo 20  Qnt 2  Qnt 3  Qnt 4  Hi 20  Lo 10  \\\n",
       "192607   NaN  -0.43    1.52   2.68  -0.57   0.59   1.60   1.47   3.33  -1.45   \n",
       "192608   NaN   3.90    3.04   2.09   3.84   3.59   3.71   1.61   2.33   5.12   \n",
       "192609   NaN  -1.08   -0.54   0.16  -0.48  -1.40   0.00  -0.50  -0.09   0.93   \n",
       "192610   NaN  -3.32   -3.52  -3.06  -3.29  -4.10  -2.89  -3.36  -2.95  -4.84   \n",
       "192611   NaN  -0.46    3.82   3.09  -0.55   2.18   3.41   3.39   3.16  -0.78   \n",
       "\n",
       "        Dec 2  Dec 3  Dec 4  Dec 5  Dec 6  Dec 7  Dec 8  Dec 9  Hi 10  \n",
       "192607   0.29  -0.15   1.33   1.24   1.98   1.55   1.38   3.38   3.29  \n",
       "192608   2.59   4.03   3.15   2.72   4.72   1.60   1.63   0.98   3.70  \n",
       "192609  -1.87  -2.27  -0.53   0.07  -0.07  -1.64   0.64  -0.86   0.67  \n",
       "192610  -1.77  -3.36  -4.83  -2.98  -2.80  -3.45  -3.27  -3.47  -2.43  \n",
       "192611  -0.32  -0.29   4.65   3.24   3.57   3.82   2.95   3.61   2.70  "
      ]
     },
     "execution_count": 3,
     "metadata": {},
     "output_type": "execute_result"
    }
   ],
   "source": [
    "# Let's look at the data\n",
    "monthly_data.head()"
   ]
  },
  {
   "cell_type": "raw",
   "metadata": {},
   "source": [
    "## Data Preprocessing\n",
    "\n",
    "Collect the data for Small Cap and Large Cap Companies named as Low10 and High 10"
   ]
  },
  {
   "cell_type": "code",
   "execution_count": 5,
   "metadata": {},
   "outputs": [
    {
     "data": {
      "text/html": [
       "<div>\n",
       "<style scoped>\n",
       "    .dataframe tbody tr th:only-of-type {\n",
       "        vertical-align: middle;\n",
       "    }\n",
       "\n",
       "    .dataframe tbody tr th {\n",
       "        vertical-align: top;\n",
       "    }\n",
       "\n",
       "    .dataframe thead th {\n",
       "        text-align: right;\n",
       "    }\n",
       "</style>\n",
       "<table border=\"1\" class=\"dataframe\">\n",
       "  <thead>\n",
       "    <tr style=\"text-align: right;\">\n",
       "      <th></th>\n",
       "      <th>SmallCap</th>\n",
       "      <th>LargeCap</th>\n",
       "    </tr>\n",
       "  </thead>\n",
       "  <tbody>\n",
       "    <tr>\n",
       "      <th>192607</th>\n",
       "      <td>-0.57</td>\n",
       "      <td>3.33</td>\n",
       "    </tr>\n",
       "    <tr>\n",
       "      <th>192608</th>\n",
       "      <td>3.84</td>\n",
       "      <td>2.33</td>\n",
       "    </tr>\n",
       "    <tr>\n",
       "      <th>192609</th>\n",
       "      <td>-0.48</td>\n",
       "      <td>-0.09</td>\n",
       "    </tr>\n",
       "    <tr>\n",
       "      <th>192610</th>\n",
       "      <td>-3.29</td>\n",
       "      <td>-2.95</td>\n",
       "    </tr>\n",
       "    <tr>\n",
       "      <th>192611</th>\n",
       "      <td>-0.55</td>\n",
       "      <td>3.16</td>\n",
       "    </tr>\n",
       "  </tbody>\n",
       "</table>\n",
       "</div>"
      ],
      "text/plain": [
       "        SmallCap  LargeCap\n",
       "192607     -0.57      3.33\n",
       "192608      3.84      2.33\n",
       "192609     -0.48     -0.09\n",
       "192610     -3.29     -2.95\n",
       "192611     -0.55      3.16"
      ]
     },
     "execution_count": 5,
     "metadata": {},
     "output_type": "execute_result"
    }
   ],
   "source": [
    "# Extract the data\n",
    "returns = monthly_data[['Lo 20', 'Hi 20']]\n",
    "returns.columns = ['SmallCap', 'LargeCap']\n",
    "returns.head()"
   ]
  },
  {
   "cell_type": "code",
   "execution_count": 6,
   "metadata": {},
   "outputs": [
    {
     "data": {
      "text/html": [
       "<div>\n",
       "<style scoped>\n",
       "    .dataframe tbody tr th:only-of-type {\n",
       "        vertical-align: middle;\n",
       "    }\n",
       "\n",
       "    .dataframe tbody tr th {\n",
       "        vertical-align: top;\n",
       "    }\n",
       "\n",
       "    .dataframe thead th {\n",
       "        text-align: right;\n",
       "    }\n",
       "</style>\n",
       "<table border=\"1\" class=\"dataframe\">\n",
       "  <thead>\n",
       "    <tr style=\"text-align: right;\">\n",
       "      <th></th>\n",
       "      <th>SmallCap</th>\n",
       "      <th>LargeCap</th>\n",
       "    </tr>\n",
       "  </thead>\n",
       "  <tbody>\n",
       "    <tr>\n",
       "      <th>192607</th>\n",
       "      <td>-0.0057</td>\n",
       "      <td>0.0333</td>\n",
       "    </tr>\n",
       "    <tr>\n",
       "      <th>192608</th>\n",
       "      <td>0.0384</td>\n",
       "      <td>0.0233</td>\n",
       "    </tr>\n",
       "    <tr>\n",
       "      <th>192609</th>\n",
       "      <td>-0.0048</td>\n",
       "      <td>-0.0009</td>\n",
       "    </tr>\n",
       "    <tr>\n",
       "      <th>192610</th>\n",
       "      <td>-0.0329</td>\n",
       "      <td>-0.0295</td>\n",
       "    </tr>\n",
       "    <tr>\n",
       "      <th>192611</th>\n",
       "      <td>-0.0055</td>\n",
       "      <td>0.0316</td>\n",
       "    </tr>\n",
       "    <tr>\n",
       "      <th>...</th>\n",
       "      <td>...</td>\n",
       "      <td>...</td>\n",
       "    </tr>\n",
       "    <tr>\n",
       "      <th>201808</th>\n",
       "      <td>0.0309</td>\n",
       "      <td>0.0249</td>\n",
       "    </tr>\n",
       "    <tr>\n",
       "      <th>201809</th>\n",
       "      <td>-0.0204</td>\n",
       "      <td>0.0019</td>\n",
       "    </tr>\n",
       "    <tr>\n",
       "      <th>201810</th>\n",
       "      <td>-0.1052</td>\n",
       "      <td>-0.0741</td>\n",
       "    </tr>\n",
       "    <tr>\n",
       "      <th>201811</th>\n",
       "      <td>-0.0278</td>\n",
       "      <td>0.0249</td>\n",
       "    </tr>\n",
       "    <tr>\n",
       "      <th>201812</th>\n",
       "      <td>-0.1477</td>\n",
       "      <td>-0.0921</td>\n",
       "    </tr>\n",
       "  </tbody>\n",
       "</table>\n",
       "<p>1110 rows × 2 columns</p>\n",
       "</div>"
      ],
      "text/plain": [
       "        SmallCap  LargeCap\n",
       "192607   -0.0057    0.0333\n",
       "192608    0.0384    0.0233\n",
       "192609   -0.0048   -0.0009\n",
       "192610   -0.0329   -0.0295\n",
       "192611   -0.0055    0.0316\n",
       "...          ...       ...\n",
       "201808    0.0309    0.0249\n",
       "201809   -0.0204    0.0019\n",
       "201810   -0.1052   -0.0741\n",
       "201811   -0.0278    0.0249\n",
       "201812   -0.1477   -0.0921\n",
       "\n",
       "[1110 rows x 2 columns]"
      ]
     },
     "execution_count": 6,
     "metadata": {},
     "output_type": "execute_result"
    }
   ],
   "source": [
    "# Convert Returns to percentages \n",
    "returns = returns/100\n",
    "returns"
   ]
  },
  {
   "cell_type": "markdown",
   "metadata": {},
   "source": [
    "Plot the returns to see the trend."
   ]
  },
  {
   "cell_type": "code",
   "execution_count": 7,
   "metadata": {},
   "outputs": [
    {
     "data": {
      "text/plain": [
       "<AxesSubplot:>"
      ]
     },
     "execution_count": 7,
     "metadata": {},
     "output_type": "execute_result"
    },
    {
     "data": {
      "image/png": "[encoded data removed]",
      "text/plain": [
       "<Figure size 432x288 with 1 Axes>"
      ]
     },
     "metadata": {
      "needs_background": "light"
     },
     "output_type": "display_data"
    }
   ],
   "source": [
    "# Make a line plot of the returns\n",
    "returns.plot.line()"
   ]
  },
  {
   "cell_type": "markdown",
   "metadata": {},
   "source": [
    "The index is actually messed up and we need to fix this by converting it to time series to get better visualisations. "
   ]
  },
  {
   "cell_type": "code",
   "execution_count": 8,
   "metadata": {},
   "outputs": [
    {
     "data": {
      "text/html": [
       "<div>\n",
       "<style scoped>\n",
       "    .dataframe tbody tr th:only-of-type {\n",
       "        vertical-align: middle;\n",
       "    }\n",
       "\n",
       "    .dataframe tbody tr th {\n",
       "        vertical-align: top;\n",
       "    }\n",
       "\n",
       "    .dataframe thead th {\n",
       "        text-align: right;\n",
       "    }\n",
       "</style>\n",
       "<table border=\"1\" class=\"dataframe\">\n",
       "  <thead>\n",
       "    <tr style=\"text-align: right;\">\n",
       "      <th></th>\n",
       "      <th>SmallCap</th>\n",
       "      <th>LargeCap</th>\n",
       "    </tr>\n",
       "  </thead>\n",
       "  <tbody>\n",
       "    <tr>\n",
       "      <th>1926-07-01</th>\n",
       "      <td>-0.0057</td>\n",
       "      <td>0.0333</td>\n",
       "    </tr>\n",
       "    <tr>\n",
       "      <th>1926-08-01</th>\n",
       "      <td>0.0384</td>\n",
       "      <td>0.0233</td>\n",
       "    </tr>\n",
       "    <tr>\n",
       "      <th>1926-09-01</th>\n",
       "      <td>-0.0048</td>\n",
       "      <td>-0.0009</td>\n",
       "    </tr>\n",
       "    <tr>\n",
       "      <th>1926-10-01</th>\n",
       "      <td>-0.0329</td>\n",
       "      <td>-0.0295</td>\n",
       "    </tr>\n",
       "    <tr>\n",
       "      <th>1926-11-01</th>\n",
       "      <td>-0.0055</td>\n",
       "      <td>0.0316</td>\n",
       "    </tr>\n",
       "    <tr>\n",
       "      <th>...</th>\n",
       "      <td>...</td>\n",
       "      <td>...</td>\n",
       "    </tr>\n",
       "    <tr>\n",
       "      <th>2018-08-01</th>\n",
       "      <td>0.0309</td>\n",
       "      <td>0.0249</td>\n",
       "    </tr>\n",
       "    <tr>\n",
       "      <th>2018-09-01</th>\n",
       "      <td>-0.0204</td>\n",
       "      <td>0.0019</td>\n",
       "    </tr>\n",
       "    <tr>\n",
       "      <th>2018-10-01</th>\n",
       "      <td>-0.1052</td>\n",
       "      <td>-0.0741</td>\n",
       "    </tr>\n",
       "    <tr>\n",
       "      <th>2018-11-01</th>\n",
       "      <td>-0.0278</td>\n",
       "      <td>0.0249</td>\n",
       "    </tr>\n",
       "    <tr>\n",
       "      <th>2018-12-01</th>\n",
       "      <td>-0.1477</td>\n",
       "      <td>-0.0921</td>\n",
       "    </tr>\n",
       "  </tbody>\n",
       "</table>\n",
       "<p>1110 rows × 2 columns</p>\n",
       "</div>"
      ],
      "text/plain": [
       "            SmallCap  LargeCap\n",
       "1926-07-01   -0.0057    0.0333\n",
       "1926-08-01    0.0384    0.0233\n",
       "1926-09-01   -0.0048   -0.0009\n",
       "1926-10-01   -0.0329   -0.0295\n",
       "1926-11-01   -0.0055    0.0316\n",
       "...              ...       ...\n",
       "2018-08-01    0.0309    0.0249\n",
       "2018-09-01   -0.0204    0.0019\n",
       "2018-10-01   -0.1052   -0.0741\n",
       "2018-11-01   -0.0278    0.0249\n",
       "2018-12-01   -0.1477   -0.0921\n",
       "\n",
       "[1110 rows x 2 columns]"
      ]
     },
     "execution_count": 8,
     "metadata": {},
     "output_type": "execute_result"
    }
   ],
   "source": [
    "returns.index = pd.to_datetime(returns.index, format=\"%Y%m\")\n",
    "returns"
   ]
  },
  {
   "cell_type": "markdown",
   "metadata": {},
   "source": [
    "This looks a lot better. Now, we have monthly data for each small cap index and large cap index from the year 1926 to 2018. Pretty cool! However, the time stamp is given as first of the month however, these are the monthly averaged returns. So, we don't really need the date and we can just save the month-year representation. "
   ]
  },
  {
   "cell_type": "code",
   "execution_count": 9,
   "metadata": {},
   "outputs": [
    {
     "data": {
      "text/html": [
       "<div>\n",
       "<style scoped>\n",
       "    .dataframe tbody tr th:only-of-type {\n",
       "        vertical-align: middle;\n",
       "    }\n",
       "\n",
       "    .dataframe tbody tr th {\n",
       "        vertical-align: top;\n",
       "    }\n",
       "\n",
       "    .dataframe thead th {\n",
       "        text-align: right;\n",
       "    }\n",
       "</style>\n",
       "<table border=\"1\" class=\"dataframe\">\n",
       "  <thead>\n",
       "    <tr style=\"text-align: right;\">\n",
       "      <th></th>\n",
       "      <th>SmallCap</th>\n",
       "      <th>LargeCap</th>\n",
       "    </tr>\n",
       "  </thead>\n",
       "  <tbody>\n",
       "    <tr>\n",
       "      <th>1926-07</th>\n",
       "      <td>-0.0057</td>\n",
       "      <td>0.0333</td>\n",
       "    </tr>\n",
       "    <tr>\n",
       "      <th>1926-08</th>\n",
       "      <td>0.0384</td>\n",
       "      <td>0.0233</td>\n",
       "    </tr>\n",
       "    <tr>\n",
       "      <th>1926-09</th>\n",
       "      <td>-0.0048</td>\n",
       "      <td>-0.0009</td>\n",
       "    </tr>\n",
       "    <tr>\n",
       "      <th>1926-10</th>\n",
       "      <td>-0.0329</td>\n",
       "      <td>-0.0295</td>\n",
       "    </tr>\n",
       "    <tr>\n",
       "      <th>1926-11</th>\n",
       "      <td>-0.0055</td>\n",
       "      <td>0.0316</td>\n",
       "    </tr>\n",
       "    <tr>\n",
       "      <th>...</th>\n",
       "      <td>...</td>\n",
       "      <td>...</td>\n",
       "    </tr>\n",
       "    <tr>\n",
       "      <th>2018-08</th>\n",
       "      <td>0.0309</td>\n",
       "      <td>0.0249</td>\n",
       "    </tr>\n",
       "    <tr>\n",
       "      <th>2018-09</th>\n",
       "      <td>-0.0204</td>\n",
       "      <td>0.0019</td>\n",
       "    </tr>\n",
       "    <tr>\n",
       "      <th>2018-10</th>\n",
       "      <td>-0.1052</td>\n",
       "      <td>-0.0741</td>\n",
       "    </tr>\n",
       "    <tr>\n",
       "      <th>2018-11</th>\n",
       "      <td>-0.0278</td>\n",
       "      <td>0.0249</td>\n",
       "    </tr>\n",
       "    <tr>\n",
       "      <th>2018-12</th>\n",
       "      <td>-0.1477</td>\n",
       "      <td>-0.0921</td>\n",
       "    </tr>\n",
       "  </tbody>\n",
       "</table>\n",
       "<p>1110 rows × 2 columns</p>\n",
       "</div>"
      ],
      "text/plain": [
       "         SmallCap  LargeCap\n",
       "1926-07   -0.0057    0.0333\n",
       "1926-08    0.0384    0.0233\n",
       "1926-09   -0.0048   -0.0009\n",
       "1926-10   -0.0329   -0.0295\n",
       "1926-11   -0.0055    0.0316\n",
       "...           ...       ...\n",
       "2018-08    0.0309    0.0249\n",
       "2018-09   -0.0204    0.0019\n",
       "2018-10   -0.1052   -0.0741\n",
       "2018-11   -0.0278    0.0249\n",
       "2018-12   -0.1477   -0.0921\n",
       "\n",
       "[1110 rows x 2 columns]"
      ]
     },
     "execution_count": 9,
     "metadata": {},
     "output_type": "execute_result"
    }
   ],
   "source": [
    "returns.index = returns.index.to_period('M')\n",
    "returns"
   ]
  },
  {
   "cell_type": "code",
   "execution_count": 10,
   "metadata": {},
   "outputs": [
    {
     "data": {
      "text/plain": [
       "<AxesSubplot:>"
      ]
     },
     "execution_count": 10,
     "metadata": {},
     "output_type": "execute_result"
    },
    {
     "data": {
      "image/png": "[encoded data removed]",
      "text/plain": [
       "<Figure size 432x288 with 1 Axes>"
      ]
     },
     "metadata": {
      "needs_background": "light"
     },
     "output_type": "display_data"
    }
   ],
   "source": [
    "# Plot the data again \n",
    "returns.plot.line()"
   ]
  },
  {
   "cell_type": "markdown",
   "metadata": {},
   "source": [
    "Since the index is in time series format, we can do a lot of data manipulation using dates very easily. We can quickly extract the sections as well. "
   ]
  },
  {
   "cell_type": "code",
   "execution_count": 11,
   "metadata": {},
   "outputs": [
    {
     "name": "stderr",
     "output_type": "stream",
     "text": [
      "<ipython-input-11-e5ad5a49e2b5>:2: FutureWarning: Indexing a DataFrame with a datetimelike index using a single string to slice the rows, like `frame[string]`, is deprecated and will be removed in a future version. Use `frame.loc[string]` instead.\n",
      "  returns['1960']\n"
     ]
    },
    {
     "data": {
      "text/html": [
       "<div>\n",
       "<style scoped>\n",
       "    .dataframe tbody tr th:only-of-type {\n",
       "        vertical-align: middle;\n",
       "    }\n",
       "\n",
       "    .dataframe tbody tr th {\n",
       "        vertical-align: top;\n",
       "    }\n",
       "\n",
       "    .dataframe thead th {\n",
       "        text-align: right;\n",
       "    }\n",
       "</style>\n",
       "<table border=\"1\" class=\"dataframe\">\n",
       "  <thead>\n",
       "    <tr style=\"text-align: right;\">\n",
       "      <th></th>\n",
       "      <th>SmallCap</th>\n",
       "      <th>LargeCap</th>\n",
       "    </tr>\n",
       "  </thead>\n",
       "  <tbody>\n",
       "    <tr>\n",
       "      <th>1960-01</th>\n",
       "      <td>-0.0051</td>\n",
       "      <td>-0.0582</td>\n",
       "    </tr>\n",
       "    <tr>\n",
       "      <th>1960-02</th>\n",
       "      <td>-0.0009</td>\n",
       "      <td>0.0087</td>\n",
       "    </tr>\n",
       "    <tr>\n",
       "      <th>1960-03</th>\n",
       "      <td>-0.0280</td>\n",
       "      <td>-0.0121</td>\n",
       "    </tr>\n",
       "    <tr>\n",
       "      <th>1960-04</th>\n",
       "      <td>-0.0297</td>\n",
       "      <td>-0.0085</td>\n",
       "    </tr>\n",
       "    <tr>\n",
       "      <th>1960-05</th>\n",
       "      <td>-0.0015</td>\n",
       "      <td>0.0367</td>\n",
       "    </tr>\n",
       "    <tr>\n",
       "      <th>1960-06</th>\n",
       "      <td>0.0179</td>\n",
       "      <td>0.0238</td>\n",
       "    </tr>\n",
       "    <tr>\n",
       "      <th>1960-07</th>\n",
       "      <td>-0.0128</td>\n",
       "      <td>-0.0253</td>\n",
       "    </tr>\n",
       "    <tr>\n",
       "      <th>1960-08</th>\n",
       "      <td>0.0572</td>\n",
       "      <td>0.0301</td>\n",
       "    </tr>\n",
       "    <tr>\n",
       "      <th>1960-09</th>\n",
       "      <td>-0.0610</td>\n",
       "      <td>-0.0586</td>\n",
       "    </tr>\n",
       "    <tr>\n",
       "      <th>1960-10</th>\n",
       "      <td>-0.0312</td>\n",
       "      <td>-0.0054</td>\n",
       "    </tr>\n",
       "    <tr>\n",
       "      <th>1960-11</th>\n",
       "      <td>0.0148</td>\n",
       "      <td>0.0573</td>\n",
       "    </tr>\n",
       "    <tr>\n",
       "      <th>1960-12</th>\n",
       "      <td>0.0226</td>\n",
       "      <td>0.0481</td>\n",
       "    </tr>\n",
       "  </tbody>\n",
       "</table>\n",
       "</div>"
      ],
      "text/plain": [
       "         SmallCap  LargeCap\n",
       "1960-01   -0.0051   -0.0582\n",
       "1960-02   -0.0009    0.0087\n",
       "1960-03   -0.0280   -0.0121\n",
       "1960-04   -0.0297   -0.0085\n",
       "1960-05   -0.0015    0.0367\n",
       "1960-06    0.0179    0.0238\n",
       "1960-07   -0.0128   -0.0253\n",
       "1960-08    0.0572    0.0301\n",
       "1960-09   -0.0610   -0.0586\n",
       "1960-10   -0.0312   -0.0054\n",
       "1960-11    0.0148    0.0573\n",
       "1960-12    0.0226    0.0481"
      ]
     },
     "execution_count": 11,
     "metadata": {},
     "output_type": "execute_result"
    }
   ],
   "source": [
    "# Get the data in the year 1960 \n",
    "returns['1960']"
   ]
  },
  {
   "cell_type": "markdown",
   "metadata": {},
   "source": [
    "## Compute Drawdowns \n",
    "\n",
    "Steps to compute the drawdowns. \n",
    "\n",
    "1. **Compute the Wealth Index:** Value of a portfolio when it compounds over time over returns. \n",
    "2. **Compute the previous peak** \n",
    "3. **Compute drawdown** \n",
    "\n",
    "Let's start with LargeCap data."
   ]
  },
  {
   "cell_type": "code",
   "execution_count": 12,
   "metadata": {},
   "outputs": [
    {
     "data": {
      "text/plain": [
       "1926-07    1033.300000\n",
       "1926-08    1057.375890\n",
       "1926-09    1056.424252\n",
       "1926-10    1025.259736\n",
       "1926-11    1057.657944\n",
       "Freq: M, Name: LargeCap, dtype: float64"
      ]
     },
     "execution_count": 12,
     "metadata": {},
     "output_type": "execute_result"
    }
   ],
   "source": [
    "# Compute the wealth index by starting with 1000 dollars\n",
    "# The starting value won't matter with drawdowns\n",
    "\n",
    "wealth_index = 1000*(1+returns['LargeCap']).cumprod()\n",
    "wealth_index.head()"
   ]
  },
  {
   "cell_type": "code",
   "execution_count": 13,
   "metadata": {},
   "outputs": [
    {
     "data": {
      "text/plain": [
       "<AxesSubplot:>"
      ]
     },
     "execution_count": 13,
     "metadata": {},
     "output_type": "execute_result"
    },
    {
     "data": {
      "image/png": "[encoded data removed]",
      "text/plain": [
       "<Figure size 432x288 with 1 Axes>"
      ]
     },
     "metadata": {
      "needs_background": "light"
     },
     "output_type": "display_data"
    }
   ],
   "source": [
    "# Plot the wealth index over time \n",
    "wealth_index.plot.line()"
   ]
  },
  {
   "cell_type": "markdown",
   "metadata": {},
   "source": [
    "The cumulative effect is evident. "
   ]
  },
  {
   "cell_type": "code",
   "execution_count": 14,
   "metadata": {},
   "outputs": [
    {
     "data": {
      "text/plain": [
       "1926-07    1033.300000\n",
       "1926-08    1057.375890\n",
       "1926-09    1057.375890\n",
       "1926-10    1057.375890\n",
       "1926-11    1057.657944\n",
       "Freq: M, Name: LargeCap, dtype: float64"
      ]
     },
     "execution_count": 14,
     "metadata": {},
     "output_type": "execute_result"
    }
   ],
   "source": [
    "# Compute the previous peaks \n",
    "previous_peaks = wealth_index.cummax()\n",
    "previous_peaks.head()"
   ]
  },
  {
   "cell_type": "code",
   "execution_count": 15,
   "metadata": {},
   "outputs": [
    {
     "data": {
      "text/plain": [
       "<AxesSubplot:>"
      ]
     },
     "execution_count": 15,
     "metadata": {},
     "output_type": "execute_result"
    },
    {
     "data": {
      "image/png": "[encoded data removed]",
      "text/plain": [
       "<Figure size 432x288 with 1 Axes>"
      ]
     },
     "metadata": {
      "needs_background": "light"
     },
     "output_type": "display_data"
    }
   ],
   "source": [
    "# Plot the previous peaks\n",
    "previous_peaks.plot.line()"
   ]
  },
  {
   "cell_type": "markdown",
   "metadata": {},
   "source": [
    "This is line is always moving upward. The points where we get a loss is where it flattens because we are only keep the cumulative max value. "
   ]
  },
  {
   "cell_type": "code",
   "execution_count": 16,
   "metadata": {},
   "outputs": [],
   "source": [
    "# Calculate the drawdown in percentage\n",
    "drawdown = (wealth_index - previous_peaks)/previous_peaks"
   ]
  },
  {
   "cell_type": "code",
   "execution_count": 17,
   "metadata": {},
   "outputs": [
    {
     "data": {
      "text/plain": [
       "<AxesSubplot:>"
      ]
     },
     "execution_count": 17,
     "metadata": {},
     "output_type": "execute_result"
    },
    {
     "data": {
      "image/png": "[encoded data removed]",
      "text/plain": [
       "<Figure size 432x288 with 1 Axes>"
      ]
     },
     "metadata": {
      "needs_background": "light"
     },
     "output_type": "display_data"
    }
   ],
   "source": [
    "# Plot the drawdown \n",
    "drawdown.plot.line()"
   ]
  },
  {
   "cell_type": "markdown",
   "metadata": {},
   "source": [
    "This is very interesting. The crash of 1929 was much worse than 2000 or 2008 where people lost over 80% of their wealth. This was decimating. Let's look at some important values. "
   ]
  },
  {
   "cell_type": "code",
   "execution_count": 18,
   "metadata": {},
   "outputs": [
    {
     "data": {
      "text/plain": [
       "1926-07    0.000000\n",
       "1926-08    0.000000\n",
       "1926-09   -0.000900\n",
       "1926-10   -0.030373\n",
       "1926-11    0.000000\n",
       "Freq: M, Name: LargeCap, dtype: float64"
      ]
     },
     "execution_count": 18,
     "metadata": {},
     "output_type": "execute_result"
    }
   ],
   "source": [
    "drawdown.head()"
   ]
  },
  {
   "cell_type": "markdown",
   "metadata": {},
   "source": [
    "Drawdowns are calculating the negative returns and hence, they are between 0 and -1."
   ]
  },
  {
   "cell_type": "code",
   "execution_count": 19,
   "metadata": {},
   "outputs": [
    {
     "data": {
      "text/plain": [
       "-0.8585017065044246"
      ]
     },
     "execution_count": 19,
     "metadata": {},
     "output_type": "execute_result"
    }
   ],
   "source": [
    "# Get the worst drawdown \n",
    "drawdown.min()"
   ]
  },
  {
   "cell_type": "code",
   "execution_count": 20,
   "metadata": {},
   "outputs": [
    {
     "data": {
      "text/plain": [
       "Period('1932-05', 'M')"
      ]
     },
     "execution_count": 20,
     "metadata": {},
     "output_type": "execute_result"
    }
   ],
   "source": [
    "drawdown.idxmin()"
   ]
  },
  {
   "cell_type": "markdown",
   "metadata": {},
   "source": [
    "The worst drawdown was roughly 84% and it was on 1932-05.\n",
    "\n",
    "As a time series, there are many operations that we can do on this data. "
   ]
  },
  {
   "cell_type": "code",
   "execution_count": 21,
   "metadata": {},
   "outputs": [
    {
     "name": "stdout",
     "output_type": "stream",
     "text": [
      "The worst drawdown since 1975 was -0.5527349978713652 on 2009-02\n"
     ]
    }
   ],
   "source": [
    "# Get the worst drawdown since 1975\n",
    "print(f\"The worst drawdown since 1975 was {drawdown['1975':].min()} on {drawdown['1975':].idxmin()}\")"
   ]
  },
  {
   "cell_type": "code",
   "execution_count": 22,
   "metadata": {},
   "outputs": [
    {
     "name": "stdout",
     "output_type": "stream",
     "text": [
      "-0.18433959531750105\n",
      "1990-10\n"
     ]
    }
   ],
   "source": [
    "# Get the worst drawdown in the 90s \n",
    "print(drawdown['1990':'1999'].min())\n",
    "print(drawdown['1990':'1999'].idxmin())"
   ]
  },
  {
   "cell_type": "markdown",
   "metadata": {},
   "source": [
    "Finally, we need to make a combined plot of peaks wealth index to visualise drawdowns."
   ]
  },
  {
   "cell_type": "code",
   "execution_count": 23,
   "metadata": {},
   "outputs": [
    {
     "data": {
      "text/plain": [
       "<AxesSubplot:>"
      ]
     },
     "execution_count": 23,
     "metadata": {},
     "output_type": "execute_result"
    },
    {
     "data": {
      "image/png": "[encoded data removed]",
      "text/plain": [
       "<Figure size 432x288 with 1 Axes>"
      ]
     },
     "metadata": {
      "needs_background": "light"
     },
     "output_type": "display_data"
    }
   ],
   "source": [
    "# Combine Plots \n",
    "wealth_index.plot.line()\n",
    "previous_peaks.plot.line()\n"
   ]
  },
  {
   "cell_type": "code",
   "execution_count": 24,
   "metadata": {},
   "outputs": [],
   "source": [
    "# Make a drawdown function\n",
    "def compute_drawdown(return_series: pd.Series):\n",
    "    '''\n",
    "        ARGS: \n",
    "            Takes in a series of returns\n",
    "            \n",
    "        RETURNS:\n",
    "            Wealth index\n",
    "            Previous Peaks \n",
    "            Percent Drawdowns            \n",
    "    '''\n",
    "    \n",
    "    # Calculate the wealth previous peaks and drawdowns\n",
    "    wealth_index = 1000*(1+return_series).cumprod()\n",
    "    previous_peaks = wealth_index.cummax()\n",
    "    drawdowns = (wealth_index - previous_peaks)/previous_peaks\n",
    "    \n",
    "    # Create a dataframe \n",
    "    drawdown_data = pd.DataFrame({'Wealth': wealth_index, \n",
    "                                  'Peaks': previous_peaks,\n",
    "                                  'Drawdown': drawdowns})\n",
    "    return drawdown_data"
   ]
  },
  {
   "cell_type": "code",
   "execution_count": 25,
   "metadata": {},
   "outputs": [
    {
     "data": {
      "text/html": [
       "<div>\n",
       "<style scoped>\n",
       "    .dataframe tbody tr th:only-of-type {\n",
       "        vertical-align: middle;\n",
       "    }\n",
       "\n",
       "    .dataframe tbody tr th {\n",
       "        vertical-align: top;\n",
       "    }\n",
       "\n",
       "    .dataframe thead th {\n",
       "        text-align: right;\n",
       "    }\n",
       "</style>\n",
       "<table border=\"1\" class=\"dataframe\">\n",
       "  <thead>\n",
       "    <tr style=\"text-align: right;\">\n",
       "      <th></th>\n",
       "      <th>Wealth</th>\n",
       "      <th>Peaks</th>\n",
       "      <th>Drawdown</th>\n",
       "    </tr>\n",
       "  </thead>\n",
       "  <tbody>\n",
       "    <tr>\n",
       "      <th>1926-07</th>\n",
       "      <td>9.943000e+02</td>\n",
       "      <td>9.943000e+02</td>\n",
       "      <td>0.000000</td>\n",
       "    </tr>\n",
       "    <tr>\n",
       "      <th>1926-08</th>\n",
       "      <td>1.032481e+03</td>\n",
       "      <td>1.032481e+03</td>\n",
       "      <td>0.000000</td>\n",
       "    </tr>\n",
       "    <tr>\n",
       "      <th>1926-09</th>\n",
       "      <td>1.027525e+03</td>\n",
       "      <td>1.032481e+03</td>\n",
       "      <td>-0.004800</td>\n",
       "    </tr>\n",
       "    <tr>\n",
       "      <th>1926-10</th>\n",
       "      <td>9.937196e+02</td>\n",
       "      <td>1.032481e+03</td>\n",
       "      <td>-0.037542</td>\n",
       "    </tr>\n",
       "    <tr>\n",
       "      <th>1926-11</th>\n",
       "      <td>9.882542e+02</td>\n",
       "      <td>1.032481e+03</td>\n",
       "      <td>-0.042836</td>\n",
       "    </tr>\n",
       "    <tr>\n",
       "      <th>...</th>\n",
       "      <td>...</td>\n",
       "      <td>...</td>\n",
       "      <td>...</td>\n",
       "    </tr>\n",
       "    <tr>\n",
       "      <th>2018-08</th>\n",
       "      <td>6.644003e+08</td>\n",
       "      <td>6.644003e+08</td>\n",
       "      <td>0.000000</td>\n",
       "    </tr>\n",
       "    <tr>\n",
       "      <th>2018-09</th>\n",
       "      <td>6.508465e+08</td>\n",
       "      <td>6.644003e+08</td>\n",
       "      <td>-0.020400</td>\n",
       "    </tr>\n",
       "    <tr>\n",
       "      <th>2018-10</th>\n",
       "      <td>5.823775e+08</td>\n",
       "      <td>6.644003e+08</td>\n",
       "      <td>-0.123454</td>\n",
       "    </tr>\n",
       "    <tr>\n",
       "      <th>2018-11</th>\n",
       "      <td>5.661874e+08</td>\n",
       "      <td>6.644003e+08</td>\n",
       "      <td>-0.147822</td>\n",
       "    </tr>\n",
       "    <tr>\n",
       "      <th>2018-12</th>\n",
       "      <td>4.825615e+08</td>\n",
       "      <td>6.644003e+08</td>\n",
       "      <td>-0.273689</td>\n",
       "    </tr>\n",
       "  </tbody>\n",
       "</table>\n",
       "<p>1110 rows × 3 columns</p>\n",
       "</div>"
      ],
      "text/plain": [
       "               Wealth         Peaks  Drawdown\n",
       "1926-07  9.943000e+02  9.943000e+02  0.000000\n",
       "1926-08  1.032481e+03  1.032481e+03  0.000000\n",
       "1926-09  1.027525e+03  1.032481e+03 -0.004800\n",
       "1926-10  9.937196e+02  1.032481e+03 -0.037542\n",
       "1926-11  9.882542e+02  1.032481e+03 -0.042836\n",
       "...               ...           ...       ...\n",
       "2018-08  6.644003e+08  6.644003e+08  0.000000\n",
       "2018-09  6.508465e+08  6.644003e+08 -0.020400\n",
       "2018-10  5.823775e+08  6.644003e+08 -0.123454\n",
       "2018-11  5.661874e+08  6.644003e+08 -0.147822\n",
       "2018-12  4.825615e+08  6.644003e+08 -0.273689\n",
       "\n",
       "[1110 rows x 3 columns]"
      ]
     },
     "execution_count": 25,
     "metadata": {},
     "output_type": "execute_result"
    }
   ],
   "source": [
    "# Get the data for small cap stocks \n",
    "small_cap_drawdowns = compute_drawdown(returns['SmallCap'])\n",
    "small_cap_drawdowns"
   ]
  },
  {
   "cell_type": "markdown",
   "metadata": {},
   "source": [
    "It's important to plot the wealth and peak together to understand where the biggest dropdowns occurred. "
   ]
  },
  {
   "cell_type": "code",
   "execution_count": 26,
   "metadata": {},
   "outputs": [
    {
     "data": {
      "text/plain": [
       "<AxesSubplot:>"
      ]
     },
     "execution_count": 26,
     "metadata": {},
     "output_type": "execute_result"
    },
    {
     "data": {
      "image/png": "[encoded data removed]",
      "text/plain": [
       "<Figure size 432x288 with 1 Axes>"
      ]
     },
     "metadata": {
      "needs_background": "light"
     },
     "output_type": "display_data"
    }
   ],
   "source": [
    "# Lets plot the wealth and the peaks \n",
    "small_cap_drawdowns[['Wealth', 'Peaks']].plot.line()"
   ]
  },
  {
   "cell_type": "code",
   "execution_count": 27,
   "metadata": {},
   "outputs": [
    {
     "data": {
      "text/plain": [
       "<AxesSubplot:>"
      ]
     },
     "execution_count": 27,
     "metadata": {},
     "output_type": "execute_result"
    },
    {
     "data": {
      "image/png": "[encoded data removed]",
      "text/plain": [
       "<Figure size 432x288 with 1 Axes>"
      ]
     },
     "metadata": {
      "needs_background": "light"
     },
     "output_type": "display_data"
    }
   ],
   "source": [
    "small_cap_drawdowns['Drawdown'].plot.line()"
   ]
  },
  {
   "cell_type": "markdown",
   "metadata": {},
   "source": [
    "Small Caps generally show more losses and that goes in line with our knowledge of large and small cap stocks. "
   ]
  },
  {
   "cell_type": "code",
   "execution_count": 28,
   "metadata": {},
   "outputs": [
    {
     "data": {
      "text/plain": [
       "-0.8672279770834406"
      ]
     },
     "execution_count": 28,
     "metadata": {},
     "output_type": "execute_result"
    }
   ],
   "source": [
    "small_cap_drawdowns['Drawdown'].min()"
   ]
  },
  {
   "cell_type": "code",
   "execution_count": 29,
   "metadata": {},
   "outputs": [
    {
     "data": {
      "text/plain": [
       "Period('1932-05', 'M')"
      ]
     },
     "execution_count": 29,
     "metadata": {},
     "output_type": "execute_result"
    }
   ],
   "source": [
    "small_cap_drawdowns['Drawdown'].idxmin()"
   ]
  },
  {
   "cell_type": "markdown",
   "metadata": {},
   "source": [
    "The damage was also similar in 1932. Let's check for damages since 1975."
   ]
  },
  {
   "cell_type": "code",
   "execution_count": 38,
   "metadata": {},
   "outputs": [
    {
     "name": "stdout",
     "output_type": "stream",
     "text": [
      "The worst drawdown since 1999 was -62.48092431236988 on 2009-02\n"
     ]
    }
   ],
   "source": [
    "# Get the worst drawdown since 1975\n",
    "print(f\"The worst drawdown since 1999 was {small_cap_drawdowns['Drawdown']['1999':'2015'].min()*100} on {small_cap_drawdowns['Drawdown']['1999':'2015'].idxmin()}\")"
   ]
  },
  {
   "cell_type": "code",
   "execution_count": 41,
   "metadata": {},
   "outputs": [
    {
     "name": "stdout",
     "output_type": "stream",
     "text": [
      "The worst drawdown since 1999 was -55.273499787136515 on 2009-02\n"
     ]
    }
   ],
   "source": [
    "# Get the worst drawdown since 1975\n",
    "print(f\"The worst drawdown since 1999 was {drawdown['1999':'2015'].min()*100} on {drawdown['1999':'2015'].idxmin()}\")"
   ]
  },
  {
   "cell_type": "markdown",
   "metadata": {},
   "source": [
    "So, the 2008 crash was clearly worse for small cap stocks. "
   ]
  },
  {
   "cell_type": "code",
   "execution_count": null,
   "metadata": {},
   "outputs": [],
   "source": []
  }
 ],
 "metadata": {
  "kernelspec": {
   "display_name": "Python 3",
   "language": "python",
   "name": "python3"
  },
  "language_info": {
   "codemirror_mode": {
    "name": "ipython",
    "version": 3
   },
   "file_extension": ".py",
   "mimetype": "text/x-python",
   "name": "python",
   "nbconvert_exporter": "python",
   "pygments_lexer": "ipython3",
   "version": "3.8.8"
  }
 },
 "nbformat": 4,
 "nbformat_minor": 4
}
